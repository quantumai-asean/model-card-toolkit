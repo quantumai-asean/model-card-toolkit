{
 "cells": [
  {
   "cell_type": "markdown",
   "metadata": {},
   "source": [
    "## Description\n",
    "\n",
    "notebook to experiment idea of the framework.\n",
    "1. define class/schema of the engine\n",
    "2. define class/schme of company\n",
    "3. define class of model\n",
    "4. Integrate with model card\n",
    "\n",
    "refs: \n",
    "* https://www.tensorflow.org/responsible_ai/model_card_toolkit/guide"
   ]
  },
  {
   "cell_type": "markdown",
   "metadata": {},
   "source": [
    "### Model Card Toolkit  \n",
    "\n",
    "The Model Card Toolkit (MCT) library streamlines and automates generation of Model Cards, machine learning documents that provide context and transparency into a model's development and performance. Integrating the Model Card Toolkit into your ML pipeline will allow you to share your model's metadata and metrics with researchers, developers, reporters, and more.\n",
    "\n",
    "MCT stores model card fields using a [JSON schema](../../model_card_toolkit/schema). MCT can automatically populate those fields for TFX users via ML Metadata (MLMD). Model card fields can also be manually populated via a Python API. Some use cases of model cards include:\n",
    "\n",
    "* Facilitating the exchange of information between model builders and product developers.\n",
    "* Informing users of ML models to make better-informed decisions about how to use them (or how not to use them).\n",
    "* Providing model information required for effective public oversight and accountability."
   ]
  },
  {
   "cell_type": "code",
   "execution_count": 1,
   "metadata": {},
   "outputs": [],
   "source": [
    "import model_card_toolkit as mct"
   ]
  },
  {
   "cell_type": "code",
   "execution_count": null,
   "metadata": {},
   "outputs": [],
   "source": [
    "class AssessmentEngine:\n",
    "    def __init__(self):\n",
    "        pass\n",
    "\n",
    "    def validate_data(self):\n",
    "        pass\n",
    "\n",
    "    def run(self):\n",
    "        # run\n",
    "        pass\n"
   ]
  },
  {
   "cell_type": "code",
   "execution_count": 3,
   "metadata": {},
   "outputs": [],
   "source": [
    "import json\n",
    "\n",
    "model_card_schema_v2_path = \"../../model_card_toolkit/schema/v0.0.2/model_card.schema.json\"\n",
    "with open(model_card_schema_v2_path, 'r') as file:\n",
    "    modelcard_json_v2_data = json.load(file)\n"
   ]
  },
  {
   "cell_type": "code",
   "execution_count": 5,
   "metadata": {},
   "outputs": [
    {
     "data": {
      "text/plain": [
       "dict_keys(['$schema', 'title', '$id', 'description', 'type', 'properties', 'additionalProperties', 'definitions'])"
      ]
     },
     "execution_count": 5,
     "metadata": {},
     "output_type": "execute_result"
    }
   ],
   "source": [
    "modelcard_json_v2_data.keys()"
   ]
  },
  {
   "cell_type": "code",
   "execution_count": 6,
   "metadata": {},
   "outputs": [
    {
     "data": {
      "text/plain": [
       "dict_keys(['schema_version', 'model_details', 'model_parameters', 'quantitative_analysis', 'considerations'])"
      ]
     },
     "execution_count": 6,
     "metadata": {},
     "output_type": "execute_result"
    }
   ],
   "source": [
    "modelcard_json_v2_data['properties'].keys()"
   ]
  },
  {
   "cell_type": "code",
   "execution_count": 8,
   "metadata": {},
   "outputs": [
    {
     "data": {
      "text/plain": [
       "dict_keys(['name', 'overview', 'documentation', 'owners', 'version', 'licenses', 'references', 'citations', 'path'])"
      ]
     },
     "execution_count": 8,
     "metadata": {},
     "output_type": "execute_result"
    }
   ],
   "source": [
    "modelcard_json_v2_data['properties']['model_details']['properties'].keys()"
   ]
  },
  {
   "cell_type": "code",
   "execution_count": null,
   "metadata": {},
   "outputs": [],
   "source": [
    "class ModelOwner:\n",
    "    def __init__(self, id = 0):\n",
    "        self.name = \"\"\n",
    "        self.id = id if id != 0 else 0\n",
    "        self.contact = \"\"\n",
    "        self.UUID = 0\n",
    "    \n",
    "    def update_database(self):\n",
    "        \"\"\"\n",
    "        Update owner info in database\n",
    "        \"\"\"\n",
    "        pass\n",
    "\n",
    "    def generate_id(Self):\n",
    "        \"\"\"\n",
    "        Generate a UUID for this company\n",
    "        \"\"\"\n",
    "        pass\n",
    "\n",
    "    "
   ]
  }
 ],
 "metadata": {
  "kernelspec": {
   "display_name": "Python 3",
   "language": "python",
   "name": "python3"
  },
  "language_info": {
   "codemirror_mode": {
    "name": "ipython",
    "version": 3
   },
   "file_extension": ".py",
   "mimetype": "text/x-python",
   "name": "python",
   "nbconvert_exporter": "python",
   "pygments_lexer": "ipython3",
   "version": "3.11.7"
  }
 },
 "nbformat": 4,
 "nbformat_minor": 2
}
